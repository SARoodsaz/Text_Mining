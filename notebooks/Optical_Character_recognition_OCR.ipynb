{
 "cells": [
  {
   "cell_type": "code",
   "execution_count": 2,
   "metadata": {},
   "outputs": [],
   "source": [
    "import pandas as pd\n",
    "import numpy as np\n",
    "import os\n",
    "import glob\n",
    "import re\n",
    "import pdf2image\n",
    "import pdfminer\n",
    "import pytesseract\n",
    "from pytesseract import Output\n",
    "from PIL import Image\n",
    "from pdfminer.pdfinterp import PDFResourceManager, PDFPageInterpreter\n",
    "from pdfminer.converter import TextConverter\n",
    "from pdfminer.layout import LAParams\n",
    "from pdfminer.pdfpage import PDFPage\n",
    "from io import StringIO\n",
    "import cv2\n",
    "import io\n",
    "import tempfile\n",
    "from pytesseract import image_to_string"
   ]
  },
  {
   "cell_type": "code",
   "execution_count": 11,
   "metadata": {},
   "outputs": [],
   "source": [
    "def main(inputfile):\n",
    "    def get_grayscale(image):\n",
    "        return cv2.cvtColor(image, cv2.COLOR_BGR2GRAY)\n",
    "    def remove_noise(image):\n",
    "        return cv2.medianBlur(image, 3)\n",
    "    def thresholding(image):\n",
    "        return cv2.threshold(image, 160, 255, cv2.THRESH_BINARY)[1]\n",
    "    def dilate(image):\n",
    "        kernel = np.ones((5, 5), np.uint8)\n",
    "        return cv2.dilate(image, kernel, iterations=1)\n",
    "    def erode(image):\n",
    "        kernel = np.ones((5, 5), np.uint8)\n",
    "        return cv2.erode(image, kernel, iterations=1)\n",
    "    def opening(image):\n",
    "        kernel = np.ones((5, 5), np.uint8)\n",
    "        return cv2.morphologyEx(image, cv2.MORPH_OPEN, kernel)\n",
    "    def canny(image):\n",
    "        return cv2.Canny(image, 100, 200)\n",
    "    def deskew(image):\n",
    "        coords = np.column_stack(np.where(image > 0))\n",
    "        angle = cv2.minAreaRect(coords)[-1]\n",
    "        if angle < -45:\n",
    "            angle = -(90 + angle)\n",
    "\n",
    "        else:\n",
    "            angle = -angle\n",
    "            (h, w) = image.shape[:2]\n",
    "            center = (w // 2, h // 2)\n",
    "            M = cv2.getRotationMatrix2D(center, angle, 1.0)\n",
    "            rotated = cv2.warpAffine(image, M, (w, h), flags=cv2.INTER_CUBIC, borderMode=cv2.BORDER_REPLICATE)\n",
    "            return rotated\n",
    "    def match_template(image, template):\n",
    "        return cv2.matchTemplate(image, template, cv2.TM_CCOEFF_NORMED)\n",
    "\n",
    "    im = Image.open(inputfile)\n",
    "    length_x, width_y = im.size\n",
    "    factor = float(1024.0 / length_x)\n",
    "    size = int(factor * length_x), int(factor * width_y)\n",
    "    image_resize = im.resize(size, Image.Resampling.LANCZOS)\n",
    "    image_resize.save(f\"{inputfile}_preprocessed.png\", dpi=(300, 300))\n",
    "    img = cv2.imread(f\"{inputfile}_preprocessed.png\")\n",
    "    gray = get_grayscale(img)\n",
    "    ## Different Modes for image proccessing\n",
    "    img = gray\n",
    "    # deskew = deskew(gray)\n",
    "    # erode = erode(gray)\n",
    "    # thresh = thresholding(gray)\n",
    "    # thresh = remove_noise(gray)\n",
    "    # opening = opening(gray)\n",
    "    # canny = canny(gray)"
   ]
  },
  {
   "cell_type": "code",
   "execution_count": 12,
   "metadata": {},
   "outputs": [],
   "source": [
    "if __name__ == \"__main__\":\n",
    "    main(inputfile=r'C://Users/Omid roodi/Desktop/OCR_test/Screenshot_20231115_132605_Samsung Notes.jpg')"
   ]
  },
  {
   "cell_type": "code",
   "execution_count": 5,
   "metadata": {},
   "outputs": [
    {
     "ename": "error",
     "evalue": "OpenCV(4.8.1) :-1: error: (-5:Bad argument) in function 'cvtColor'\n> Overload resolution failed:\n>  - src is not a numpy array, neither a scalar\n>  - Expected Ptr<cv::UMat> for argument 'src'\n",
     "output_type": "error",
     "traceback": [
      "\u001b[1;31m---------------------------------------------------------------------------\u001b[0m",
      "\u001b[1;31merror\u001b[0m                                     Traceback (most recent call last)",
      "\u001b[1;32mc:\\Users\\Omid roodi\\Desktop\\python_code\\Text_Mining\\notebooks\\Optical_Character_recognition_OCR.ipynb Cell 4\u001b[0m line \u001b[0;36m2\n\u001b[0;32m      <a href='vscode-notebook-cell:/c%3A/Users/Omid%20roodi/Desktop/python_code/Text_Mining/notebooks/Optical_Character_recognition_OCR.ipynb#X40sZmlsZQ%3D%3D?line=0'>1</a>\u001b[0m img \u001b[39m=\u001b[39m Image\u001b[39m.\u001b[39mopen(\u001b[39mr\u001b[39m\u001b[39m'\u001b[39m\u001b[39mC://Users/Omid roodi/Desktop/OCR_test/Screenshot_20231115_132605_Samsung Notes.jpg\u001b[39m\u001b[39m'\u001b[39m)\n\u001b[1;32m----> <a href='vscode-notebook-cell:/c%3A/Users/Omid%20roodi/Desktop/python_code/Text_Mining/notebooks/Optical_Character_recognition_OCR.ipynb#X40sZmlsZQ%3D%3D?line=1'>2</a>\u001b[0m gray_img \u001b[39m=\u001b[39m cv2\u001b[39m.\u001b[39;49mcvtColor(img, cv2\u001b[39m.\u001b[39;49mCOLOR_BGR2GRAY)\n\u001b[0;32m      <a href='vscode-notebook-cell:/c%3A/Users/Omid%20roodi/Desktop/python_code/Text_Mining/notebooks/Optical_Character_recognition_OCR.ipynb#X40sZmlsZQ%3D%3D?line=2'>3</a>\u001b[0m _, threshold_img \u001b[39m=\u001b[39m cv2\u001b[39m.\u001b[39mthreshold(gray_img, \u001b[39m128\u001b[39m, \u001b[39m255\u001b[39m, cv2\u001b[39m.\u001b[39mTHRESH_BINARY \u001b[39m|\u001b[39m cv2\u001b[39m.\u001b[39mTHRESH_OTSU)\n\u001b[0;32m      <a href='vscode-notebook-cell:/c%3A/Users/Omid%20roodi/Desktop/python_code/Text_Mining/notebooks/Optical_Character_recognition_OCR.ipynb#X40sZmlsZQ%3D%3D?line=3'>4</a>\u001b[0m preprocessed_img \u001b[39m=\u001b[39m Image\u001b[39m.\u001b[39mfromarray(threshold_img)\n",
      "\u001b[1;31merror\u001b[0m: OpenCV(4.8.1) :-1: error: (-5:Bad argument) in function 'cvtColor'\n> Overload resolution failed:\n>  - src is not a numpy array, neither a scalar\n>  - Expected Ptr<cv::UMat> for argument 'src'\n"
     ]
    }
   ],
   "source": [
    "img = Image.open(r'C://Users/Omid roodi/Desktop/OCR_test/Screenshot_20231115_132605_Samsung Notes.jpg_preprocessed.png')\n",
    "gray_img = cv2.cvtColor(img, cv2.COLOR_BGR2GRAY)\n",
    "_, threshold_img = cv2.threshold(gray_img, 128, 255, cv2.THRESH_BINARY | cv2.THRESH_OTSU)\n",
    "preprocessed_img = Image.fromarray(threshold_img)"
   ]
  },
  {
   "cell_type": "code",
   "execution_count": null,
   "metadata": {},
   "outputs": [],
   "source": [
    "text = pytesseract.image_to_string(preprocessed_img, lang='fas', config='--psm 6 oem 3')"
   ]
  },
  {
   "cell_type": "code",
   "execution_count": 21,
   "metadata": {},
   "outputs": [
    {
     "name": "stdout",
     "output_type": "stream",
     "text": [
      "۲ ات\n",
      "۱۸۳\n",
      "۹۱۷۳۹\n",
      "۱۷۰۸\n",
      "۱-۸-۳۷\n",
      "۶ +(\n",
      "0۱\n",
      "۸,۹۲۱,۹۶۰ ۶۳)\n",
      "(۸,۲۱۲,۲۴۱)\n",
      "(۵۲,۶۳۲)\n",
      "(۱۸,۰۷۷,۵۷۶)\n",
      "۴۰۸,۹۳۴,۹۹۸\n",
      "(۹۹۹,۸۰۹,۱۰۴)\n",
      "(۱۳۲۱,۷۱۶,۷۵۲)\n",
      "(۴۵,۶۲۲,۹۵۱)\n",
      "(۱۱,۰۷۶,۹۷۸)\n",
      "\n"
     ]
    }
   ],
   "source": [
    "# Open an image file\n",
    "image_path = r'C://Users/Omid roodi/Desktop/OCR_test/Screenshot_20231115_132605_Samsung Notes.jpg'\n",
    "img = Image.open(image_path)\n",
    "\n",
    "# Use pytesseract to do OCR on the image, specifying the language as Persian ('fas')\n",
    "# Include your custom words file in the configuration\n",
    "config = '--psm 6 oem 3 user_words C://Users/Omid roodi/Desktop/OCR_test/your_custom_words.txt'\n",
    "text = pytesseract.image_to_string(img, lang='fas', config=config)\n",
    "\n",
    "print(text)"
   ]
  },
  {
   "cell_type": "code",
   "execution_count": null,
   "metadata": {},
   "outputs": [],
   "source": [
    "image_path= r'C://Users/Omid roodi/Desktop/OCR_test/Screenshot_20231115_132605_Samsung Notes.jpg'\n",
    "img = Image.open(image_path)\n",
    "text= pytesseract.image_to_string(img,lang='fas',config='--psm 6 oem 3')"
   ]
  },
  {
   "cell_type": "code",
   "execution_count": null,
   "metadata": {},
   "outputs": [],
   "source": [
    "lines= text.split('\\n')\n",
    "df = pd.DataFrame(lines)"
   ]
  },
  {
   "cell_type": "code",
   "execution_count": null,
   "metadata": {},
   "outputs": [],
   "source": [
    "df"
   ]
  }
 ],
 "metadata": {
  "kernelspec": {
   "display_name": "Python 3",
   "language": "python",
   "name": "python3"
  },
  "language_info": {
   "codemirror_mode": {
    "name": "ipython",
    "version": 3
   },
   "file_extension": ".py",
   "mimetype": "text/x-python",
   "name": "python",
   "nbconvert_exporter": "python",
   "pygments_lexer": "ipython3",
   "version": "3.9.2"
  }
 },
 "nbformat": 4,
 "nbformat_minor": 2
}
